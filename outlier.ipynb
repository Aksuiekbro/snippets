{
 "cells": [
  {
   "cell_type": "markdown",
   "id": "ce1ee178",
   "metadata": {},
   "source": [
    "🔥 Быстрая визуализация выбросов:"
   ]
  },
  {
   "cell_type": "code",
   "execution_count": null,
   "id": "0bf0682a",
   "metadata": {},
   "outputs": [],
   "source": [
    "import seaborn as sns\n",
    "sns.boxplot(x=df['feature'])  # выбросы будут видны как точки"
   ]
  },
  {
   "cell_type": "markdown",
   "id": "998c8070",
   "metadata": {},
   "source": [
    "CLEANLAB"
   ]
  },
  {
   "cell_type": "code",
   "execution_count": null,
   "id": "58189aa5",
   "metadata": {},
   "outputs": [],
   "source": [
    "!pip install cleanlab\n"
   ]
  },
  {
   "cell_type": "code",
   "execution_count": null,
   "id": "2990cdf8",
   "metadata": {},
   "outputs": [],
   "source": [
    "from cleanlab.classification import CleanLearning\n",
    "from sklearn.ensemble import RandomForestClassifier\n",
    "from cleanlab.dataset import cleanlab_dataset\n",
    "from sklearn.model_selection import cross_val_predict\n",
    "from sklearn.metrics import accuracy_score\n",
    "import pandas as pd\n",
    "\n",
    "# Данные\n",
    "X = df.drop(\"target\", axis=1).values\n",
    "y = df[\"target\"].values\n",
    "\n",
    "# 1. Предсказания через кросс-валидацию\n",
    "from sklearn.model_selection import StratifiedKFold\n",
    "from sklearn.ensemble import RandomForestClassifier\n",
    "from cleanlab.classification import CleanLearning\n",
    "\n",
    "cv = StratifiedKFold(n_splits=5, shuffle=True, random_state=42)\n",
    "clf = RandomForestClassifier()\n",
    "\n",
    "# 2. CleanLearning wrapper\n",
    "clean_model = CleanLearning(clf, seed=42, cv_n_folds=5)\n",
    "clean_model.fit(X, y)\n",
    "\n",
    "# 3. Какие метки подозрительные?\n",
    "ranked_label_issues = clean_model.get_label_issues()\n",
    "print(ranked_label_issues[:10])  # индексы строк, где вероятны ошибки\n"
   ]
  },
  {
   "cell_type": "code",
   "execution_count": null,
   "id": "dc375d75",
   "metadata": {},
   "outputs": [],
   "source": [
    "from cleanlab.classification import CleanLearning\n",
    "from sklearn.linear_model import LogisticRegression\n",
    "import numpy as np\n",
    "\n",
    "def auto_fix_with_cleanlab(X, y, strategy='fix'):\n",
    "    \"\"\"\n",
    "    Автоматически исправляет метки на основе Cleanlab.\n",
    "\n",
    "    strategy: \n",
    "        - 'fix'  → заменяет плохие метки на предсказанные\n",
    "        - 'drop' → удаляет строки с ошибками\n",
    "    \"\"\"\n",
    "    base_clf = LogisticRegression(max_iter=1000)\n",
    "    clean_model = CleanLearning(base_clf)\n",
    "    clean_model.fit(X, y)\n",
    "\n",
    "    issues = clean_model.get_label_issues()\n",
    "    print(f\"[INFO] Найдено подозрительных меток: {len(issues)}\")\n",
    "\n",
    "    if strategy == 'fix':\n",
    "        y_pred = clean_model.predict(X)\n",
    "        y_fixed = y.copy()\n",
    "        y_fixed[issues] = y_pred[issues]\n",
    "        return X, y_fixed\n",
    "\n",
    "    elif strategy == 'drop':\n",
    "        X_clean = np.delete(X, issues, axis=0)\n",
    "        y_clean = np.delete(y, issues, axis=0)\n",
    "        return X_clean, y_clean\n",
    "\n",
    "    else:\n",
    "        raise ValueError(\"strategy must be 'fix' or 'drop'\")\n"
   ]
  },
  {
   "cell_type": "code",
   "execution_count": null,
   "id": "9752edcb",
   "metadata": {},
   "outputs": [],
   "source": [
    "from sklearn.linear_model import LogisticRegression\n",
    "from cleanlab.classification import CleanLearning\n",
    "from sklearn.metrics import accuracy_score\n",
    "import numpy as np\n",
    "\n",
    "def cleanlab_pipeline(X, y):\n",
    "    \"\"\"\n",
    "    Полный pipeline:\n",
    "    1. Обучает базовую модель\n",
    "    2. Вычисляет accuracy до очистки\n",
    "    3. Применяет Cleanlab для поиска ошибочных меток\n",
    "    4. Заменяет подозрительные метки на предсказания\n",
    "    5. Обучает новую модель и выводит accuracy после\n",
    "    \"\"\"\n",
    "    # Шаг 1: базовая модель\n",
    "    clf = LogisticRegression(max_iter=1000)\n",
    "    clf.fit(X, y)\n",
    "    preds = clf.predict(X)\n",
    "    acc_before = accuracy_score(y, preds)\n",
    "\n",
    "    # Шаг 2: Cleanlab\n",
    "    clean_model = CleanLearning(LogisticRegression(max_iter=1000))\n",
    "    clean_model.fit(X, y)\n",
    "    issues = clean_model.get_label_issues()\n",
    "    print(f\"[INFO] Найдено подозрительных меток: {len(issues)}\")\n",
    "\n",
    "    # Шаг 3: исправим метки\n",
    "    y_pred = clean_model.predict(X)\n",
    "    y_fixed = y.copy()\n",
    "    y_fixed[issues] = y_pred[issues]\n",
    "\n",
    "    # Шаг 4: новая модель\n",
    "    clf_fixed = LogisticRegression(max_iter=1000)\n",
    "    clf_fixed.fit(X, y_fixed)\n",
    "    preds_fixed = clf_fixed.predict(X)\n",
    "    acc_after = accuracy_score(y_fixed, preds_fixed)\n",
    "\n",
    "    # Вывод\n",
    "    print(f\"📊 Accuracy до очистки:  {acc_before:.4f}\")\n",
    "    print(f\"✅ Accuracy после очистки: {acc_after:.4f}\")\n",
    "    return y_fixed, issues\n"
   ]
  },
  {
   "cell_type": "markdown",
   "id": "4d06750c",
   "metadata": {},
   "source": [
    "Isolation forest"
   ]
  },
  {
   "cell_type": "code",
   "execution_count": null,
   "id": "edff7301",
   "metadata": {},
   "outputs": [],
   "source": [
    "import pandas as pd\n",
    "from sklearn.ensemble import IsolationForest\n",
    "from sklearn.datasets import load_breast_cancer\n",
    "import seaborn as sns\n",
    "import matplotlib.pyplot as plt\n",
    "import numpy as np\n",
    "import ace_tools as tools\n",
    "\n",
    "# Загрузим пример табличных данных\n",
    "data = load_breast_cancer()\n",
    "df = pd.DataFrame(data.data, columns=data.feature_names)\n",
    "df['target'] = data.target\n",
    "\n",
    "# Применим Isolation Forest для обнаружения выбросов\n",
    "X = df.drop('target', axis=1)\n",
    "iso = IsolationForest(contamination=0.05, random_state=42)\n",
    "outlier_mask = iso.fit_predict(X) == 1  # 1 = норм, -1 = выброс\n",
    "\n",
    "# Добавим колонку-флаг\n",
    "df['is_outlier'] = ~outlier_mask  # True = выброс\n",
    "\n",
    "# Кол-во выбросов\n",
    "n_outliers = df['is_outlier'].sum()\n",
    "\n",
    "# Отфильтруем очищенный датасет\n",
    "df_clean = df[~df['is_outlier']].drop(columns='is_outlier')\n",
    "tools.display_dataframe_to_user(name=\"Cleaned Dataset (No Outliers)\", dataframe=df_clean)\n",
    "\n",
    "# Вернём число выбросов\n",
    "n_outliers\n"
   ]
  },
  {
   "cell_type": "markdown",
   "id": "3bad8132",
   "metadata": {},
   "source": [
    "LOF"
   ]
  },
  {
   "cell_type": "code",
   "execution_count": null,
   "id": "077f975e",
   "metadata": {},
   "outputs": [],
   "source": [
    "from sklearn.neighbors import LocalOutlierFactor\n",
    "\n",
    "# Применим LOF\n",
    "lof = LocalOutlierFactor(n_neighbors=20, contamination=0.05)\n",
    "lof_labels = lof.fit_predict(X)  # -1 = выброс\n",
    "lof_mask = lof_labels == 1\n",
    "\n",
    "# Добавим в PCA-датафрейм\n",
    "df_pca['LOF_Outlier'] = ~lof_mask  # True = выброс\n",
    "\n",
    "# Нарисуем сравнение\n",
    "plt.figure(figsize=(8,6))\n",
    "sns.scatterplot(data=df_pca, x='PC1', y='PC2', hue='LOF_Outlier', palette={False: 'blue', True: 'orange'})\n",
    "plt.title(\"PCA Projection with LOF Outliers Highlighted\")\n",
    "plt.legend(title='LOF Outlier')\n",
    "plt.grid(True)\n",
    "plt.tight_layout()\n",
    "plt.show()\n"
   ]
  }
 ],
 "metadata": {
  "kernelspec": {
   "display_name": "Python 3",
   "language": "python",
   "name": "python3"
  },
  "language_info": {
   "name": "python",
   "version": "3.11.4"
  }
 },
 "nbformat": 4,
 "nbformat_minor": 5
}
