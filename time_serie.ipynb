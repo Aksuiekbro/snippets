{
 "cells": [
  {
   "cell_type": "code",
   "execution_count": 2,
   "id": "39eba2b1",
   "metadata": {},
   "outputs": [
    {
     "name": "stderr",
     "output_type": "stream",
     "text": [
      "/var/folders/dz/24l0vlf56_g5667tfzky6vk80000gn/T/ipykernel_7449/4175135549.py:3: DtypeWarning: Columns (7) have mixed types. Specify dtype option on import or set low_memory=False.\n",
      "  df = pd.read_csv(\"train.csv\")\n"
     ]
    }
   ],
   "source": [
    "import pandas as pd\n",
    "\n",
    "df = pd.read_csv(\"train.csv\")"
   ]
  },
  {
   "cell_type": "code",
   "execution_count": null,
   "id": "9630bd81",
   "metadata": {},
   "outputs": [
    {
     "name": "stdout",
     "output_type": "stream",
     "text": [
      "     Store  DayOfWeek        Date  Sales  Customers  Open  Promo StateHoliday  \\\n",
      "0        1          5  2015-07-31   5263        555     1      1            0   \n",
      "1        2          5  2015-07-31   6064        625     1      1            0   \n",
      "2        3          5  2015-07-31   8314        821     1      1            0   \n",
      "3        4          5  2015-07-31  13995       1498     1      1            0   \n",
      "4        5          5  2015-07-31   4822        559     1      1            0   \n",
      "..     ...        ...         ...    ...        ...   ...    ...          ...   \n",
      "995    996          5  2015-07-31   9288        830     1      1            0   \n",
      "996    997          5  2015-07-31   6713        476     1      1            0   \n",
      "997    998          5  2015-07-31   6533        651     1      1            0   \n",
      "998    999          5  2015-07-31  11274        749     1      1            0   \n",
      "999   1000          5  2015-07-31   8935        749     1      1            0   \n",
      "\n",
      "     SchoolHoliday  \n",
      "0                1  \n",
      "1                1  \n",
      "2                1  \n",
      "3                1  \n",
      "4                1  \n",
      "..             ...  \n",
      "995              1  \n",
      "996              1  \n",
      "997              1  \n",
      "998              1  \n",
      "999              0  \n",
      "\n",
      "[1000 rows x 9 columns]\n"
     ]
    }
   ],
   "source": []
  }
 ],
 "metadata": {
  "kernelspec": {
   "display_name": "Python 3",
   "language": "python",
   "name": "python3"
  },
  "language_info": {
   "codemirror_mode": {
    "name": "ipython",
    "version": 3
   },
   "file_extension": ".py",
   "mimetype": "text/x-python",
   "name": "python",
   "nbconvert_exporter": "python",
   "pygments_lexer": "ipython3",
   "version": "3.11.4"
  }
 },
 "nbformat": 4,
 "nbformat_minor": 5
}
