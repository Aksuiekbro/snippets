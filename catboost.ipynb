{
 "cells": [
  {
   "cell_type": "code",
   "execution_count": null,
   "id": "6b8099b4",
   "metadata": {},
   "outputs": [],
   "source": [
    "import pandas as pd\n",
    "from catboost import CatBoostClassifier\n",
    "\n",
    "# 🧪 Пример: DataFrame с категориями и числами\n",
    "df = pd.DataFrame({\n",
    "    'gender': ['male', 'female', 'female', 'male'],\n",
    "    'age': [25, 32, 47, 19],\n",
    "    'salary': [30000, 50000, 60000, 20000],\n",
    "    'city': ['Almaty', 'Astana', 'Almaty', 'Shymkent'],\n",
    "    'label': [0, 1, 1, 0]\n",
    "})\n",
    "\n",
    "# 🎯 Целевая переменная\n",
    "y = df['label']\n",
    "X = df.drop('label', axis=1)\n",
    "\n",
    "# 🏷️ Указываем, какие признаки категориальные\n",
    "cat_cols = ['gender', 'city']\n",
    "\n",
    "# ✅ Обучение\n",
    "model = CatBoostClassifier(verbose=0)\n",
    "model.fit(X, y, cat_features=cat_cols)\n"
   ]
  }
 ],
 "metadata": {
  "language_info": {
   "name": "python"
  }
 },
 "nbformat": 4,
 "nbformat_minor": 5
}
