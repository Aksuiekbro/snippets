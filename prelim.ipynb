{
 "cells": [
  {
   "cell_type": "markdown",
   "id": "5d28dc39",
   "metadata": {},
   "source": [
    "E"
   ]
  },
  {
   "cell_type": "code",
   "execution_count": null,
   "id": "f9fd127f",
   "metadata": {},
   "outputs": [],
   "source": [
    "from sklearn.feature_extraction.text import CountVectorizer, TfidfVectorizer\n",
    "from sklearn.linear_model import LogisticRegression\n",
    "from sklearn.metrics import accuracy_score, classification_report\n",
    "\n",
    "from nltk.stem.snowball import SnowballStemmer\n",
    "import re\n",
    "\n",
    "data = pd.read_csv(\"arxiv_data/arxiv_dataset.csv\", index_col=0)\n",
    "\n",
    "X_train = data.loc[:2999, 'sampled_sentence']\n",
    "X_test = data.loc[3000:, 'sampled_sentence']\n",
    "y_train = data.loc[:2999, 'paper_section']\n",
    "\n",
    "# Инициализируем стеммер\n",
    "stemmer = SnowballStemmer(\"english\")\n",
    "\n",
    "# Кастомная токенизация + стемминг\n",
    "def tokenize_and_stem(text):\n",
    "    # Базовая нормализация текста\n",
    "    text = text.lower()\n",
    "    text = re.sub(r'\\d+', '', text)\n",
    "    text = re.sub(r'[^\\w\\s]', '', text)\n",
    "    tokens = text.strip().split()\n",
    "    return [stemmer.stem(token) for token in tokens if len(token) > 2]\n",
    "\n",
    "vectorizer = TfidfVectorizer(\n",
    "    tokenizer=tokenize_and_stem,\n",
    "    ngram_range=(1, 2),          # unigrams + bigrams\n",
    "    stop_words='english',        # убираем частые слова\n",
    "    max_df=0.06,                 # убираем супервстречающиеся слова\n",
    ")\n",
    "\n",
    "X_train_vec = vectorizer.fit_transform(X_train)  # sparse matrix\n",
    "X_test_vec = vectorizer.transform(X_test)\n",
    "\n",
    "model = LogisticRegression(max_iter=1000)\n",
    "model.fit(X_train_vec, y_train)\n",
    "\n",
    "y_pred = model.predict(X_test_vec)"
   ]
  },
  {
   "cell_type": "markdown",
   "id": "d510a2dd",
   "metadata": {},
   "source": [
    "📌 1. Извлечение признаков (Feature Extraction)\n",
    "📍 CountVectorizer (для текстов)"
   ]
  },
  {
   "cell_type": "code",
   "execution_count": null,
   "id": "152b55fa",
   "metadata": {},
   "outputs": [],
   "source": [
    "from sklearn.feature_extraction.text import CountVectorizer\n",
    "\n",
    "texts = [\"I love cats\", \"Cats are lovely\"]\n",
    "vectorizer = CountVectorizer()\n",
    "X = vectorizer.fit_transform(texts)\n",
    "\n",
    "print(vectorizer.get_feature_names_out())  # ['are' 'cats' 'love' 'lovely']\n",
    "print(X.toarray())  # [[0 1 1 0], [1 1 0 1]]\n"
   ]
  },
  {
   "cell_type": "markdown",
   "id": "d875c118",
   "metadata": {},
   "source": [
    "📍 TfidfVectorizer"
   ]
  },
  {
   "cell_type": "code",
   "execution_count": null,
   "id": "1c5248e6",
   "metadata": {},
   "outputs": [],
   "source": [
    "from sklearn.feature_extraction.text import TfidfVectorizer\n",
    "\n",
    "texts = [\"I love cats\", \"Cats are lovely\"]\n",
    "vectorizer = TfidfVectorizer()\n",
    "X = vectorizer.fit_transform(texts)\n",
    "\n",
    "print(X.toarray())\n"
   ]
  },
  {
   "cell_type": "markdown",
   "id": "878dd49a",
   "metadata": {},
   "source": [
    "📍 PCA (уменьшение размерности)"
   ]
  },
  {
   "cell_type": "code",
   "execution_count": null,
   "id": "229db215",
   "metadata": {},
   "outputs": [],
   "source": [
    "from sklearn.decomposition import PCA\n",
    "from sklearn.datasets import load_iris\n",
    "\n",
    "X = load_iris().data\n",
    "pca = PCA(n_components=2)\n",
    "X_reduced = pca.fit_transform(X)\n",
    "\n",
    "print(X_reduced[:5])  # Сокращённые признаки (2 признака)\n"
   ]
  },
  {
   "cell_type": "markdown",
   "id": "e35fd9d9",
   "metadata": {},
   "source": [
    "📍 groupby в pandas"
   ]
  },
  {
   "cell_type": "code",
   "execution_count": null,
   "id": "1f8500ab",
   "metadata": {},
   "outputs": [],
   "source": [
    "import pandas as pd\n",
    "\n",
    "df = pd.DataFrame({\n",
    "    'user': ['A', 'A', 'B', 'B'],\n",
    "    'score': [10, 20, 30, 40]\n",
    "})\n",
    "\n",
    "agg = df.groupby('user')['score'].mean().reset_index()\n",
    "print(agg)  # Средний score по user\n"
   ]
  },
  {
   "cell_type": "markdown",
   "id": "d9b62875",
   "metadata": {},
   "source": [
    "Вывод:\n",
    "  store  day  sales\n",
    "0     A  Mon    100\n",
    "1     A  Tue    150\n",
    "2     B  Mon    200\n",
    "3     B  Tue    180\n",
    "4     B  Wed    160\n",
    "5     C  Mon     90\n"
   ]
  },
  {
   "cell_type": "markdown",
   "id": "ee6c1d2c",
   "metadata": {},
   "source": [
    "📌 Цель: найти среднюю выручку по каждому магазину"
   ]
  },
  {
   "cell_type": "code",
   "execution_count": null,
   "id": "6b7b86ad",
   "metadata": {},
   "outputs": [],
   "source": [
    "# Группируем по магазину и считаем среднюю выручку\n",
    "avg_sales = data.groupby('store')['sales'].mean().reset_index()\n",
    "avg_sales.columns = ['store', 'avg_sales']\n",
    "\n",
    "print(avg_sales)\n"
   ]
  },
  {
   "cell_type": "markdown",
   "id": "7f6e568a",
   "metadata": {},
   "source": [
    "  store  avg_sales\n",
    "0     A      125.0\n",
    "1     B      180.0\n",
    "2     C       90.0\n"
   ]
  },
  {
   "cell_type": "markdown",
   "id": "9efdffea",
   "metadata": {},
   "source": [
    "🔁 Ещё пример: общая выручка по каждому магазину и дню"
   ]
  },
  {
   "cell_type": "code",
   "execution_count": null,
   "id": "fa49f5af",
   "metadata": {},
   "outputs": [],
   "source": [
    "total = data.groupby(['store', 'day'])['sales'].sum().reset_index()\n",
    "print(total)"
   ]
  },
  {
   "cell_type": "markdown",
   "id": "f47bd0bb",
   "metadata": {},
   "source": [
    "  store  day  sales\n",
    "0     A  Mon    100\n",
    "1     A  Tue    150\n",
    "2     B  Mon    200\n",
    "3     B  Tue    180\n",
    "4     B  Wed    160\n",
    "5     C  Mon     90\n"
   ]
  },
  {
   "cell_type": "markdown",
   "id": "4a108629",
   "metadata": {},
   "source": [
    "Отлично! Ниже покажу 2 мощных приёма с `groupby` — для **feature engineering** в ML-задачах:\n",
    "\n",
    "---\n",
    "\n",
    "## ✅ 1. `groupby + transform`: создаём фичу \"отклонение от среднего в группе\"\n",
    "\n",
    "Допустим, у нас есть заказы клиентов в разных городах:\n",
    "\n",
    "```python\n",
    "import pandas as pd\n",
    "\n",
    "df = pd.DataFrame({\n",
    "    'city': ['A', 'A', 'B', 'B', 'C', 'C'],\n",
    "    'user_id': [1, 2, 3, 4, 5, 6],\n",
    "    'order_amount': [100, 150, 200, 250, 80, 120]\n",
    "})\n",
    "```\n",
    "\n",
    "---\n",
    "\n",
    "### 📌 Цель: для каждой строки найти **отклонение от среднего по городу**\n",
    "\n",
    "```python\n",
    "# Считаем средний чек по городу\n",
    "df['city_avg'] = df.groupby('city')['order_amount'].transform('mean')\n",
    "\n",
    "# Вычисляем отклонение от среднего\n",
    "df['dev_from_city_avg'] = df['order_amount'] - df['city_avg']\n",
    "\n",
    "print(df)\n",
    "```\n",
    "\n",
    "**Вывод:**\n",
    "\n",
    "```\n",
    "  city  user_id  order_amount  city_avg  dev_from_city_avg\n",
    "0    A        1           100     125.0              -25.0\n",
    "1    A        2           150     125.0               25.0\n",
    "2    B        3           200     225.0              -25.0\n",
    "3    B        4           250     225.0               25.0\n",
    "4    C        5            80     100.0              -20.0\n",
    "5    C        6           120     100.0               20.0\n",
    "```\n",
    "\n",
    "👉 Это полезно, если ты хочешь учитывать поведение пользователя относительно окружения (например, выше или ниже среднего по группе).\n",
    "\n",
    "---\n",
    "\n",
    "## ✅ 2. `groupby + apply`: создаём сложную фичу — ранжирование внутри группы\n",
    "\n",
    "```python\n",
    "# Присваиваем ранги пользователям по сумме заказов внутри каждого города\n",
    "df['rank_in_city'] = df.groupby('city')['order_amount'].apply(lambda x: x.rank(ascending=False))\n",
    "\n",
    "print(df)\n",
    "```\n",
    "\n",
    "**Вывод:**\n",
    "\n",
    "```\n",
    "  city  user_id  order_amount  rank_in_city\n",
    "0    A        1           100           2.0\n",
    "1    A        2           150           1.0\n",
    "2    B        3           200           2.0\n",
    "3    B        4           250           1.0\n",
    "4    C        5            80           2.0\n",
    "5    C        6           120           1.0\n",
    "```\n",
    "\n",
    "📍 Используется, например, в рекомендациях или кредитном скоринге: кто лучший в своей категории?\n",
    "\n",
    "---\n",
    "\n",
    "Хочешь, покажу, как эти фичи можно потом передать в модель (например, LightGBM)?\n"
   ]
  },
  {
   "cell_type": "code",
   "execution_count": null,
   "id": "cad28c43",
   "metadata": {},
   "outputs": [],
   "source": [
    "import pandas as pd\n",
    "\n",
    "# Пример датафрейма\n",
    "data = pd.DataFrame({\n",
    "    'store': ['A', 'A', 'B', 'B', 'B', 'C'],\n",
    "    'day': ['Mon', 'Tue', 'Mon', 'Tue', 'Wed', 'Mon'],\n",
    "    'sales': [100, 150, 200, 180, 160, 90]\n",
    "})\n",
    "\n",
    "print(data)\n"
   ]
  },
  {
   "cell_type": "markdown",
   "id": "0d59fba1",
   "metadata": {},
   "source": [
    "📍 Градиентный бустинг (на табличных данных)"
   ]
  },
  {
   "cell_type": "code",
   "execution_count": null,
   "id": "8e380273",
   "metadata": {},
   "outputs": [],
   "source": [
    "from sklearn.ensemble import GradientBoostingClassifier\n",
    "from sklearn.datasets import make_classification\n",
    "\n",
    "X, y = make_classification(n_samples=100, n_features=4)\n",
    "model = GradientBoostingClassifier()\n",
    "model.fit(X, y)\n",
    "\n",
    "print(model.predict(X[:5]))\n"
   ]
  },
  {
   "cell_type": "markdown",
   "id": "9fb3853f",
   "metadata": {},
   "source": [
    "📍 KFold кросс-валидация"
   ]
  },
  {
   "cell_type": "code",
   "execution_count": null,
   "id": "097d2e62",
   "metadata": {},
   "outputs": [],
   "source": [
    "from sklearn.model_selection import KFold\n",
    "import numpy as np\n",
    "\n",
    "X = np.arange(10)\n",
    "kf = KFold(n_splits=5)\n",
    "\n",
    "for train_index, val_index in kf.split(X):\n",
    "    print(\"Train:\", train_index, \"Val:\", val_index)\n"
   ]
  }
 ],
 "metadata": {
  "kernelspec": {
   "display_name": "Python 3",
   "language": "python",
   "name": "python3"
  },
  "language_info": {
   "name": "python",
   "version": "3.11.4"
  }
 },
 "nbformat": 4,
 "nbformat_minor": 5
}
